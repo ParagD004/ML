{
 "cells": [
  {
   "cell_type": "code",
   "execution_count": 1,
   "metadata": {},
   "outputs": [],
   "source": [
    "import matplotlib.pyplot as plt\n",
    "from sklearn.datasets import make_blobs\n",
    "import pandas as pd\n",
    "import numpy as np\n",
    "%matplotlib inline"
   ]
  },
  {
   "cell_type": "code",
   "execution_count": 2,
   "metadata": {},
   "outputs": [],
   "source": [
    "X,y=make_blobs(n_samples=1000,centers=3,n_features=2)"
   ]
  },
  {
   "cell_type": "code",
   "execution_count": 3,
   "metadata": {},
   "outputs": [
    {
     "data": {
      "text/plain": [
       "array([[ 5.3911179 , -2.05321796],\n",
       "       [-3.90343671, -6.72118984],\n",
       "       [-2.20571885, -5.74782137],\n",
       "       ...,\n",
       "       [-4.10173783, -7.78217178],\n",
       "       [ 5.87564769,  0.43521585],\n",
       "       [-5.07399449, -8.3330203 ]])"
      ]
     },
     "execution_count": 3,
     "metadata": {},
     "output_type": "execute_result"
    }
   ],
   "source": [
    "X"
   ]
  },
  {
   "cell_type": "code",
   "execution_count": 4,
   "metadata": {},
   "outputs": [
    {
     "data": {
      "text/plain": [
       "array([0, 2, 2, 1, 1, 1, 0, 2, 0, 2, 0, 2, 2, 2, 0, 2, 2, 0, 1, 0, 1, 1,\n",
       "       0, 1, 0, 1, 0, 1, 0, 2, 0, 2, 1, 1, 1, 1, 1, 2, 2, 0, 1, 2, 1, 2,\n",
       "       0, 2, 1, 0, 2, 1, 1, 2, 1, 2, 2, 1, 0, 1, 0, 1, 2, 2, 0, 2, 2, 2,\n",
       "       1, 0, 1, 2, 1, 0, 1, 1, 1, 0, 2, 1, 0, 1, 0, 2, 1, 0, 0, 0, 0, 1,\n",
       "       1, 2, 0, 2, 0, 2, 0, 1, 2, 0, 1, 1, 1, 0, 2, 2, 2, 0, 2, 2, 1, 2,\n",
       "       2, 2, 2, 0, 0, 0, 1, 0, 2, 1, 0, 2, 0, 0, 1, 1, 2, 2, 2, 0, 0, 2,\n",
       "       1, 2, 2, 2, 0, 0, 2, 0, 1, 1, 1, 0, 0, 1, 0, 1, 2, 0, 2, 1, 2, 2,\n",
       "       2, 2, 0, 0, 2, 1, 1, 0, 1, 0, 0, 1, 0, 1, 2, 1, 2, 0, 2, 0, 2, 1,\n",
       "       2, 1, 2, 1, 1, 1, 0, 1, 0, 2, 0, 2, 2, 0, 1, 1, 2, 2, 1, 1, 2, 0,\n",
       "       0, 1, 1, 1, 2, 0, 0, 2, 2, 0, 2, 0, 0, 2, 2, 1, 1, 2, 2, 1, 2, 1,\n",
       "       2, 2, 0, 2, 1, 1, 1, 0, 1, 2, 1, 1, 2, 2, 0, 0, 1, 0, 2, 0, 0, 0,\n",
       "       0, 2, 0, 0, 0, 1, 1, 0, 0, 0, 0, 2, 1, 1, 0, 1, 1, 0, 1, 0, 0, 0,\n",
       "       1, 1, 0, 2, 0, 1, 1, 2, 1, 0, 0, 2, 2, 1, 2, 0, 0, 2, 1, 0, 2, 0,\n",
       "       0, 2, 1, 0, 0, 1, 2, 2, 1, 1, 2, 0, 2, 0, 2, 0, 2, 1, 1, 1, 1, 1,\n",
       "       2, 2, 1, 1, 0, 0, 0, 2, 1, 0, 1, 1, 0, 0, 2, 2, 0, 1, 0, 2, 0, 1,\n",
       "       0, 0, 2, 0, 0, 2, 1, 0, 0, 2, 2, 2, 0, 2, 0, 2, 2, 2, 0, 2, 0, 0,\n",
       "       2, 1, 2, 1, 2, 1, 2, 1, 2, 0, 1, 2, 2, 1, 0, 0, 1, 1, 2, 0, 2, 1,\n",
       "       1, 2, 1, 0, 1, 0, 2, 0, 1, 1, 2, 0, 2, 2, 0, 2, 0, 1, 1, 0, 2, 0,\n",
       "       1, 2, 1, 2, 0, 1, 0, 1, 2, 1, 1, 1, 2, 0, 1, 2, 2, 1, 2, 2, 0, 0,\n",
       "       0, 2, 1, 1, 0, 2, 2, 1, 1, 0, 1, 1, 2, 2, 1, 1, 2, 0, 0, 0, 1, 2,\n",
       "       0, 0, 2, 0, 2, 1, 1, 1, 0, 1, 2, 1, 0, 2, 1, 0, 2, 0, 0, 1, 1, 2,\n",
       "       2, 1, 0, 2, 1, 1, 0, 2, 1, 1, 0, 2, 2, 2, 0, 2, 2, 0, 2, 2, 2, 1,\n",
       "       1, 1, 2, 0, 1, 1, 1, 1, 0, 0, 1, 2, 1, 0, 0, 1, 2, 0, 1, 2, 1, 2,\n",
       "       1, 0, 2, 0, 2, 2, 1, 1, 0, 0, 1, 1, 1, 2, 0, 0, 0, 2, 0, 0, 2, 0,\n",
       "       1, 0, 0, 1, 2, 2, 0, 0, 0, 2, 0, 0, 0, 2, 1, 1, 0, 1, 1, 0, 0, 0,\n",
       "       1, 2, 2, 2, 2, 2, 2, 2, 1, 0, 0, 2, 0, 1, 1, 1, 0, 0, 0, 1, 1, 2,\n",
       "       0, 0, 0, 2, 2, 1, 1, 0, 0, 2, 0, 0, 0, 0, 0, 0, 0, 0, 0, 2, 2, 1,\n",
       "       0, 2, 1, 2, 0, 0, 0, 0, 2, 1, 0, 2, 2, 1, 1, 2, 1, 1, 0, 2, 1, 0,\n",
       "       2, 1, 2, 0, 0, 1, 1, 1, 2, 2, 0, 1, 0, 0, 2, 2, 0, 1, 0, 2, 1, 2,\n",
       "       0, 2, 0, 0, 2, 0, 2, 0, 2, 1, 1, 0, 1, 0, 1, 0, 2, 1, 0, 1, 2, 2,\n",
       "       0, 1, 2, 1, 1, 1, 1, 0, 0, 1, 0, 2, 0, 0, 2, 1, 2, 0, 1, 2, 1, 1,\n",
       "       1, 0, 1, 1, 0, 1, 2, 1, 1, 2, 1, 0, 2, 1, 1, 1, 2, 2, 0, 2, 2, 0,\n",
       "       2, 2, 0, 2, 1, 2, 1, 2, 0, 0, 2, 1, 1, 1, 0, 2, 2, 1, 0, 2, 0, 1,\n",
       "       2, 1, 2, 2, 2, 1, 1, 0, 2, 0, 0, 2, 0, 0, 1, 1, 1, 0, 2, 1, 1, 0,\n",
       "       2, 0, 0, 1, 1, 0, 2, 0, 0, 2, 1, 0, 2, 2, 0, 2, 2, 0, 1, 0, 0, 0,\n",
       "       2, 1, 2, 1, 1, 0, 1, 1, 1, 2, 1, 1, 1, 2, 2, 0, 2, 0, 1, 0, 1, 2,\n",
       "       2, 1, 2, 2, 0, 2, 1, 2, 2, 0, 2, 1, 0, 0, 1, 1, 2, 0, 0, 1, 0, 2,\n",
       "       2, 2, 0, 2, 0, 1, 2, 0, 2, 0, 0, 2, 0, 1, 2, 2, 0, 1, 0, 0, 2, 1,\n",
       "       0, 1, 1, 1, 1, 1, 0, 2, 1, 0, 1, 1, 1, 2, 1, 1, 0, 2, 1, 2, 0, 0,\n",
       "       0, 0, 1, 2, 1, 2, 1, 2, 1, 2, 0, 0, 0, 0, 0, 1, 0, 0, 0, 0, 2, 2,\n",
       "       2, 0, 2, 2, 0, 2, 1, 2, 2, 1, 2, 2, 1, 0, 1, 1, 2, 2, 1, 1, 1, 0,\n",
       "       1, 1, 1, 0, 2, 2, 0, 1, 0, 0, 0, 1, 1, 2, 0, 2, 1, 0, 0, 2, 1, 2,\n",
       "       1, 0, 1, 2, 2, 0, 1, 2, 0, 0, 1, 1, 2, 1, 0, 1, 1, 2, 2, 1, 0, 2,\n",
       "       2, 1, 1, 2, 2, 1, 0, 1, 1, 1, 0, 2, 2, 1, 2, 2, 2, 2, 1, 2, 1, 2,\n",
       "       0, 2, 1, 1, 0, 2, 0, 2, 0, 0, 2, 0, 0, 1, 1, 0, 2, 1, 1, 2, 2, 1,\n",
       "       2, 2, 1, 1, 0, 2, 0, 2, 1, 2])"
      ]
     },
     "execution_count": 4,
     "metadata": {},
     "output_type": "execute_result"
    }
   ],
   "source": [
    "y"
   ]
  },
  {
   "cell_type": "code",
   "execution_count": 5,
   "metadata": {},
   "outputs": [
    {
     "data": {
      "text/plain": [
       "<matplotlib.collections.PathCollection at 0x14dcb7de4b0>"
      ]
     },
     "execution_count": 5,
     "metadata": {},
     "output_type": "execute_result"
    }
   ],
   "source": [
    "plt.scatter(X[:,0],X[:,1],c=y)"
   ]
  },
  {
   "cell_type": "code",
   "execution_count": 6,
   "metadata": {},
   "outputs": [],
   "source": [
    "## standardization--feature scaling technique\n",
    "from sklearn.preprocessing import StandardScaler\n",
    "scaler=StandardScaler()"
   ]
  },
  {
   "cell_type": "code",
   "execution_count": 7,
   "metadata": {},
   "outputs": [],
   "source": [
    "from sklearn.model_selection import train_test_split"
   ]
  },
  {
   "cell_type": "code",
   "execution_count": 8,
   "metadata": {},
   "outputs": [],
   "source": [
    "X_train, X_test, y_train, y_test = train_test_split(\n",
    "    X, y, test_size=0.33, random_state=42)"
   ]
  },
  {
   "cell_type": "code",
   "execution_count": 9,
   "metadata": {},
   "outputs": [],
   "source": [
    "X_train_scaled=scaler.fit_transform(X_train)\n",
    "X_test_scaled=scaler.transform(X_test)"
   ]
  },
  {
   "cell_type": "code",
   "execution_count": 10,
   "metadata": {},
   "outputs": [],
   "source": [
    "from sklearn.cluster import KMeans"
   ]
  },
  {
   "cell_type": "code",
   "execution_count": 11,
   "metadata": {},
   "outputs": [],
   "source": [
    "## Elbow method To select K Value\n",
    "wcss=[]\n",
    "for k in range(1,11):\n",
    "    kmeans=KMeans(n_clusters=k,init=\"k-means++\")\n",
    "    kmeans.fit(X_train_scaled)\n",
    "    wcss.append(kmeans.inertia_)"
   ]
  },
  {
   "cell_type": "code",
   "execution_count": 12,
   "metadata": {},
   "outputs": [
    {
     "data": {
      "text/plain": [
       "[1339.999999999999,\n",
       " 253.94330442574045,\n",
       " 88.67832471104201,\n",
       " 74.7135752037233,\n",
       " 63.35975861518235,\n",
       " 57.490274530424045,\n",
       " 53.554278024436655,\n",
       " 48.26988119493027,\n",
       " 39.71356657149756,\n",
       " 35.12910808265492]"
      ]
     },
     "execution_count": 12,
     "metadata": {},
     "output_type": "execute_result"
    }
   ],
   "source": [
    "wcss"
   ]
  },
  {
   "cell_type": "code",
   "execution_count": 13,
   "metadata": {},
   "outputs": [
    {
     "data": {
      "image/png": "[encoded data removed]",
      "text/plain": [
       "<Figure size 640x480 with 1 Axes>"
      ]
     },
     "metadata": {},
     "output_type": "display_data"
    }
   ],
   "source": [
    "## plot elbow curve\n",
    "plt.plot(range(1,11),wcss)\n",
    "plt.xticks(range(1,11))\n",
    "plt.xlabel(\"Number of Clustrers\")\n",
    "plt.ylabel(\"WCSS\")\n",
    "plt.show()"
   ]
  },
  {
   "cell_type": "code",
   "execution_count": 14,
   "metadata": {},
   "outputs": [],
   "source": [
    "kmeans=KMeans(n_clusters=3,init=\"k-means++\")"
   ]
  },
  {
   "cell_type": "code",
   "execution_count": 15,
   "metadata": {},
   "outputs": [
    {
     "data": {
      "text/plain": [
       "array([1, 2, 1, 1, 1, 2, 1, 1, 1, 0, 0, 0, 0, 2, 0, 2, 0, 2, 1, 2, 2, 1,\n",
       "       2, 0, 2, 0, 0, 0, 1, 1, 0, 1, 0, 0, 1, 1, 2, 0, 1, 1, 2, 0, 2, 1,\n",
       "       1, 2, 0, 2, 1, 0, 0, 2, 0, 1, 0, 0, 0, 2, 0, 2, 0, 0, 2, 2, 1, 1,\n",
       "       2, 0, 0, 0, 1, 2, 1, 2, 0, 0, 2, 1, 0, 1, 2, 1, 2, 2, 0, 2, 2, 1,\n",
       "       2, 2, 1, 2, 2, 1, 2, 1, 1, 0, 1, 2, 1, 0, 0, 0, 0, 0, 1, 2, 1, 1,\n",
       "       0, 1, 2, 1, 2, 1, 2, 0, 2, 1, 1, 2, 1, 1, 2, 1, 0, 2, 0, 0, 2, 1,\n",
       "       1, 0, 1, 0, 1, 1, 1, 1, 1, 1, 2, 0, 2, 0, 0, 1, 0, 2, 2, 1, 0, 2,\n",
       "       0, 0, 1, 2, 2, 1, 1, 0, 1, 2, 2, 0, 0, 1, 1, 0, 2, 2, 1, 1, 2, 0,\n",
       "       2, 2, 1, 2, 2, 1, 0, 0, 1, 2, 1, 2, 1, 1, 0, 2, 0, 0, 0, 0, 1, 1,\n",
       "       0, 0, 2, 2, 2, 0, 2, 0, 0, 1, 0, 2, 0, 0, 2, 1, 1, 2, 2, 0, 0, 0,\n",
       "       2, 0, 1, 2, 0, 1, 2, 1, 2, 0, 2, 0, 0, 1, 1, 1, 2, 2, 0, 2, 1, 2,\n",
       "       0, 2, 2, 0, 2, 2, 0, 0, 1, 1, 1, 2, 0, 2, 0, 1, 0, 2, 1, 0, 1, 0,\n",
       "       1, 0, 0, 0, 2, 1, 1, 0, 0, 2, 2, 2, 2, 1, 0, 0, 2, 1, 1, 1, 0, 2,\n",
       "       1, 2, 0, 0, 2, 1, 2, 1, 0, 0, 0, 2, 2, 1, 1, 0, 1, 1, 1, 2, 1, 2,\n",
       "       1, 2, 0, 0, 0, 0, 2, 0, 0, 2, 0, 2, 2, 2, 2, 0, 0, 1, 1, 1, 2, 1,\n",
       "       0, 1, 2, 1, 0, 2, 0, 0, 2, 0, 1, 1, 2, 1, 2, 0, 2, 2, 0, 1, 0, 0,\n",
       "       1, 1, 2, 2, 1, 1, 0, 2, 2, 0, 1, 2, 0, 1, 2, 1, 0, 0, 2, 1, 2, 2,\n",
       "       2, 2, 2, 1, 0, 0, 2, 0, 1, 2, 2, 1, 1, 0, 2, 1, 0, 1, 0, 1, 0, 1,\n",
       "       1, 1, 0, 2, 1, 0, 1, 1, 0, 2, 0, 1, 0, 1, 0, 0, 1, 2, 2, 1, 0, 2,\n",
       "       2, 1, 0, 1, 0, 0, 1, 1, 0, 2, 1, 2, 0, 0, 0, 1, 2, 0, 2, 2, 1, 0,\n",
       "       2, 0, 1, 2, 2, 2, 0, 0, 2, 0, 2, 1, 2, 2, 0, 2, 2, 0, 1, 0, 0, 0,\n",
       "       0, 0, 1, 1, 0, 2, 1, 2, 0, 0, 2, 0, 1, 1, 0, 2, 1, 2, 1, 0, 0, 0,\n",
       "       1, 2, 1, 1, 2, 2, 1, 2, 1, 2, 2, 0, 0, 0, 2, 0, 0, 2, 1, 2, 2, 1,\n",
       "       0, 1, 1, 1, 2, 2, 1, 2, 1, 2, 1, 2, 2, 1, 2, 0, 2, 2, 0, 2, 0, 2,\n",
       "       2, 0, 2, 2, 1, 0, 2, 0, 1, 0, 1, 2, 2, 0, 1, 1, 2, 0, 0, 1, 1, 1,\n",
       "       2, 1, 1, 0, 0, 0, 0, 2, 0, 1, 0, 0, 1, 2, 0, 1, 0, 0, 1, 1, 0, 2,\n",
       "       2, 2, 1, 0, 0, 2, 0, 1, 1, 2, 1, 2, 0, 0, 2, 2, 0, 1, 0, 2, 1, 0,\n",
       "       1, 2, 1, 0, 0, 0, 2, 0, 2, 1, 0, 0, 1, 0, 1, 1, 2, 2, 0, 1, 2, 1,\n",
       "       2, 2, 0, 1, 1, 1, 1, 1, 2, 0, 0, 2, 0, 1, 0, 1, 1, 1, 1, 2, 1, 2,\n",
       "       2, 0, 2, 2, 1, 1, 2, 2, 0, 1, 0, 2, 1, 2, 1, 2, 0, 2, 1, 1, 2, 2,\n",
       "       0, 2, 2, 1, 1, 0, 2, 2, 1, 0])"
      ]
     },
     "execution_count": 15,
     "metadata": {},
     "output_type": "execute_result"
    }
   ],
   "source": [
    "kmeans.fit_predict(X_train_scaled)"
   ]
  },
  {
   "cell_type": "code",
   "execution_count": 16,
   "metadata": {},
   "outputs": [],
   "source": [
    "y_pred=kmeans.predict(X_test_scaled)"
   ]
  },
  {
   "cell_type": "code",
   "execution_count": 17,
   "metadata": {},
   "outputs": [
    {
     "data": {
      "text/plain": [
       "array([1, 0, 2, 1, 0, 2, 1, 2, 1, 1, 2, 0, 2, 0, 1, 2, 1, 0, 0, 2, 1, 0,\n",
       "       1, 1, 1, 1, 1, 2, 2, 2, 0, 1, 2, 2, 0, 1, 2, 1, 1, 2, 1, 0, 1, 1,\n",
       "       1, 2, 2, 1, 0, 2, 2, 0, 1, 2, 2, 1, 2, 1, 0, 0, 0, 0, 2, 1, 1, 2,\n",
       "       0, 2, 2, 2, 0, 1, 1, 2, 0, 1, 2, 1, 1, 2, 0, 2, 0, 1, 2, 1, 2, 0,\n",
       "       1, 0, 2, 2, 1, 0, 1, 1, 0, 2, 0, 1, 2, 1, 0, 1, 0, 0, 0, 2, 0, 0,\n",
       "       2, 1, 2, 1, 1, 2, 1, 0, 1, 2, 1, 2, 1, 2, 1, 1, 1, 2, 0, 0, 1, 0,\n",
       "       2, 0, 1, 2, 1, 0, 2, 2, 1, 2, 2, 0, 1, 2, 1, 1, 0, 1, 1, 0, 1, 2,\n",
       "       0, 0, 0, 2, 0, 1, 0, 1, 1, 2, 0, 1, 0, 2, 1, 2, 2, 1, 0, 2, 0, 0,\n",
       "       2, 1, 0, 1, 1, 1, 1, 0, 1, 1, 2, 2, 0, 1, 2, 0, 1, 2, 2, 0, 0, 0,\n",
       "       0, 1, 0, 1, 2, 0, 1, 2, 2, 2, 0, 1, 0, 2, 1, 2, 2, 1, 2, 1, 0, 2,\n",
       "       1, 0, 0, 2, 0, 0, 1, 1, 2, 1, 1, 1, 0, 0, 2, 0, 2, 0, 0, 1, 2, 1,\n",
       "       1, 0, 2, 0, 0, 2, 1, 1, 2, 0, 1, 2, 2, 0, 0, 1, 2, 2, 2, 0, 1, 1,\n",
       "       2, 1, 2, 0, 0, 1, 2, 0, 2, 1, 0, 0, 0, 2, 0, 0, 1, 0, 1, 1, 0, 2,\n",
       "       2, 2, 1, 0, 0, 1, 1, 1, 2, 1, 2, 2, 0, 0, 0, 1, 0, 1, 2, 0, 1, 0,\n",
       "       2, 1, 1, 1, 0, 0, 1, 0, 2, 0, 0, 0, 2, 0, 0, 1, 2, 2, 1, 2, 0, 0])"
      ]
     },
     "execution_count": 17,
     "metadata": {},
     "output_type": "execute_result"
    }
   ],
   "source": [
    "y_pred"
   ]
  },
  {
   "cell_type": "code",
   "execution_count": 18,
   "metadata": {},
   "outputs": [
    {
     "data": {
      "text/plain": [
       "<matplotlib.collections.PathCollection at 0x14de8b6ef90>"
      ]
     },
     "execution_count": 18,
     "metadata": {},
     "output_type": "execute_result"
    }
   ],
   "source": [
    "plt.scatter(X_test[:,0],X_test[:,1],c=y_pred)"
   ]
  },
  {
   "cell_type": "code",
   "execution_count": 19,
   "metadata": {},
   "outputs": [],
   "source": [
    "## Validating the k value\n",
    "## kneelocator\n",
    "## Silhoutee scoring"
   ]
  },
  {
   "cell_type": "code",
   "execution_count": 20,
   "metadata": {},
   "outputs": [
    {
     "name": "stdout",
     "output_type": "stream",
     "text": [
      "Collecting kneed\n",
      "  Downloading kneed-0.8.5-py3-none-any.whl.metadata (5.5 kB)\n",
      "Requirement already satisfied: numpy>=1.14.2 in d:\\anaconda\\lib\\site-packages (from kneed) (1.26.4)\n",
      "Requirement already satisfied: scipy>=1.0.0 in d:\\anaconda\\lib\\site-packages (from kneed) (1.16.2)\n",
      "Downloading kneed-0.8.5-py3-none-any.whl (10 kB)\n",
      "Installing collected packages: kneed\n",
      "Successfully installed kneed-0.8.5\n"
     ]
    }
   ],
   "source": [
    "## kneelocator\n",
    "!pip install kneed"
   ]
  },
  {
   "cell_type": "code",
   "execution_count": 21,
   "metadata": {},
   "outputs": [],
   "source": [
    "from kneed import KneeLocator"
   ]
  },
  {
   "cell_type": "code",
   "execution_count": 22,
   "metadata": {},
   "outputs": [],
   "source": [
    "kl=KneeLocator(range(1,11),wcss,curve=\"convex\",direction=\"decreasing\")"
   ]
  },
  {
   "cell_type": "code",
   "execution_count": 23,
   "metadata": {},
   "outputs": [
    {
     "data": {
      "text/plain": [
       "3"
      ]
     },
     "execution_count": 23,
     "metadata": {},
     "output_type": "execute_result"
    }
   ],
   "source": [
    "kl.elbow"
   ]
  },
  {
   "cell_type": "code",
   "execution_count": 24,
   "metadata": {},
   "outputs": [],
   "source": [
    "## silhoutte score\n",
    "from sklearn.metrics import silhouette_score"
   ]
  },
  {
   "cell_type": "code",
   "execution_count": 25,
   "metadata": {},
   "outputs": [],
   "source": [
    "silhouette_coefficients=[]\n",
    "for k in range(2,11):\n",
    "    kmeans=KMeans(n_clusters=k,init=\"k-means++\")\n",
    "    kmeans.fit(X_train_scaled)\n",
    "    score=silhouette_score(X_train_scaled,kmeans.labels_)\n",
    "    silhouette_coefficients.append(score)"
   ]
  },
  {
   "cell_type": "code",
   "execution_count": 26,
   "metadata": {},
   "outputs": [
    {
     "data": {
      "text/plain": [
       "[0.7288649484302779,\n",
       " 0.6818197771176365,\n",
       " 0.5283989057126425,\n",
       " 0.40522184664447175,\n",
       " 0.3398224351331925,\n",
       " 0.3409936475864018,\n",
       " 0.3377054059049067,\n",
       " 0.3382120966696864,\n",
       " 0.3312621894757336]"
      ]
     },
     "execution_count": 26,
     "metadata": {},
     "output_type": "execute_result"
    }
   ],
   "source": [
    "silhouette_coefficients"
   ]
  },
  {
   "cell_type": "code",
   "execution_count": 27,
   "metadata": {},
   "outputs": [
    {
     "data": {
      "image/png": "[encoded data removed]",
      "text/plain": [
       "<Figure size 640x480 with 1 Axes>"
      ]
     },
     "metadata": {},
     "output_type": "display_data"
    }
   ],
   "source": [
    "## plotting silhouette score\n",
    "plt.plot(range(2,11),silhouette_coefficients)\n",
    "plt.xticks(range(2,11))\n",
    "plt.xlabel(\"Number of Cluters\")\n",
    "plt.ylabel(\"Silhoutte Coeffecient\")\n",
    "plt.show()"
   ]
  },
  {
   "cell_type": "code",
   "execution_count": null,
   "metadata": {},
   "outputs": [],
   "source": []
  }
 ],
 "metadata": {
  "kernelspec": {
   "display_name": "Python [conda env:base] *",
   "language": "python",
   "name": "conda-base-py"
  },
  "language_info": {
   "codemirror_mode": {
    "name": "ipython",
    "version": 3
   },
   "file_extension": ".py",
   "mimetype": "text/x-python",
   "name": "python",
   "nbconvert_exporter": "python",
   "pygments_lexer": "ipython3",
   "version": "3.12.7"
  }
 },
 "nbformat": 4,
 "nbformat_minor": 4
}
