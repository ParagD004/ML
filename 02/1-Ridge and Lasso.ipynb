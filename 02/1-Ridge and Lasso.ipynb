{
 "cells": [
  {
   "cell_type": "code",
   "execution_count": 13,
   "id": "25f3ff85-5be9-4293-858d-d3cb4c525de4",
   "metadata": {},
   "outputs": [],
   "source": [
    "!pip install wandb -q\n",
    "\n",
    "import pandas as pd\n",
    "import numpy as np\n",
    "import matplotlib.pyplot as plt\n",
    "import seaborn as sns\n",
    "import wandb\n",
    "import joblib\n",
    "import os\n",
    "\n",
    "from sklearn.model_selection import train_test_split\n",
    "from sklearn.preprocessing import StandardScaler\n",
    "from sklearn.linear_model import Ridge, Lasso\n",
    "from sklearn.metrics import mean_squared_error, r2_score\n",
    "\n",
    "%matplotlib inline"
   ]
  },
  {
   "cell_type": "code",
   "execution_count": 15,
   "id": "889e5ab8-43cb-4164-af47-776818cdf206",
   "metadata": {},
   "outputs": [
    {
     "data": {
      "text/html": [
       "Tracking run with wandb version 0.21.0"
      ],
      "text/plain": [
       "<IPython.core.display.HTML object>"
      ]
     },
     "metadata": {},
     "output_type": "display_data"
    },
    {
     "data": {
      "text/html": [
       "Run data is saved locally in <code>C:\\Users\\Parag Dharmik\\ML\\02\\wandb\\run-20250929_000334-chggdydy</code>"
      ],
      "text/plain": [
       "<IPython.core.display.HTML object>"
      ]
     },
     "metadata": {},
     "output_type": "display_data"
    },
    {
     "data": {
      "text/html": [
       "Syncing run <strong><a href='https://wandb.ai/paragd004-dr-d-y-patil-vidyapeeth/ridge-lasso-regression/runs/chggdydy' target=\"_blank\">data-preprocessing</a></strong> to <a href='https://wandb.ai/paragd004-dr-d-y-patil-vidyapeeth/ridge-lasso-regression' target=\"_blank\">Weights & Biases</a> (<a href='https://wandb.me/developer-guide' target=\"_blank\">docs</a>)<br>"
      ],
      "text/plain": [
       "<IPython.core.display.HTML object>"
      ]
     },
     "metadata": {},
     "output_type": "display_data"
    },
    {
     "data": {
      "text/html": [
       " View project at <a href='https://wandb.ai/paragd004-dr-d-y-patil-vidyapeeth/ridge-lasso-regression' target=\"_blank\">https://wandb.ai/paragd004-dr-d-y-patil-vidyapeeth/ridge-lasso-regression</a>"
      ],
      "text/plain": [
       "<IPython.core.display.HTML object>"
      ]
     },
     "metadata": {},
     "output_type": "display_data"
    },
    {
     "data": {
      "text/html": [
       " View run at <a href='https://wandb.ai/paragd004-dr-d-y-patil-vidyapeeth/ridge-lasso-regression/runs/chggdydy' target=\"_blank\">https://wandb.ai/paragd004-dr-d-y-patil-vidyapeeth/ridge-lasso-regression/runs/chggdydy</a>"
      ],
      "text/plain": [
       "<IPython.core.display.HTML object>"
      ]
     },
     "metadata": {},
     "output_type": "display_data"
    }
   ],
   "source": [
    "# Login to W&B (paste your API key when prompted)\n",
    "wandb.login()\n",
    "\n",
    "# Initialize the main W&B project run\n",
    "# This returns a 'run' object that holds the configuration and state\n",
    "run = wandb.init(\n",
    "    project=\"ridge-lasso-regression\",\n",
    "    name=\"data-preprocessing\",\n",
    "    config={\n",
    "        \"test_size\": 0.25,\n",
    "        \"random_state\": 42\n",
    "    }\n",
    ")"
   ]
  },
  {
   "cell_type": "code",
   "execution_count": 17,
   "id": "62154d46-f3bd-431c-88e3-388bfb0847cb",
   "metadata": {},
   "outputs": [
    {
     "name": "stdout",
     "output_type": "stream",
     "text": [
      "Data cleaning and preprocessing complete.\n"
     ]
    },
    {
     "data": {
      "text/html": [
       "<div>\n",
       "<style scoped>\n",
       "    .dataframe tbody tr th:only-of-type {\n",
       "        vertical-align: middle;\n",
       "    }\n",
       "\n",
       "    .dataframe tbody tr th {\n",
       "        vertical-align: top;\n",
       "    }\n",
       "\n",
       "    .dataframe thead th {\n",
       "        text-align: right;\n",
       "    }\n",
       "</style>\n",
       "<table border=\"1\" class=\"dataframe\">\n",
       "  <thead>\n",
       "    <tr style=\"text-align: right;\">\n",
       "      <th></th>\n",
       "      <th>day</th>\n",
       "      <th>month</th>\n",
       "      <th>year</th>\n",
       "      <th>Temperature</th>\n",
       "      <th>RH</th>\n",
       "      <th>Ws</th>\n",
       "      <th>Rain</th>\n",
       "      <th>FFMC</th>\n",
       "      <th>DMC</th>\n",
       "      <th>DC</th>\n",
       "      <th>ISI</th>\n",
       "      <th>BUI</th>\n",
       "      <th>FWI</th>\n",
       "      <th>Classes</th>\n",
       "      <th>Region</th>\n",
       "    </tr>\n",
       "  </thead>\n",
       "  <tbody>\n",
       "    <tr>\n",
       "      <th>0</th>\n",
       "      <td>1</td>\n",
       "      <td>6</td>\n",
       "      <td>2012</td>\n",
       "      <td>29</td>\n",
       "      <td>57</td>\n",
       "      <td>18</td>\n",
       "      <td>0.0</td>\n",
       "      <td>65.7</td>\n",
       "      <td>3.4</td>\n",
       "      <td>7.6</td>\n",
       "      <td>1.3</td>\n",
       "      <td>3.4</td>\n",
       "      <td>0.5</td>\n",
       "      <td>0</td>\n",
       "      <td>0</td>\n",
       "    </tr>\n",
       "    <tr>\n",
       "      <th>1</th>\n",
       "      <td>2</td>\n",
       "      <td>6</td>\n",
       "      <td>2012</td>\n",
       "      <td>29</td>\n",
       "      <td>61</td>\n",
       "      <td>13</td>\n",
       "      <td>1.3</td>\n",
       "      <td>64.4</td>\n",
       "      <td>4.1</td>\n",
       "      <td>7.6</td>\n",
       "      <td>1.0</td>\n",
       "      <td>3.9</td>\n",
       "      <td>0.4</td>\n",
       "      <td>0</td>\n",
       "      <td>0</td>\n",
       "    </tr>\n",
       "    <tr>\n",
       "      <th>2</th>\n",
       "      <td>3</td>\n",
       "      <td>6</td>\n",
       "      <td>2012</td>\n",
       "      <td>26</td>\n",
       "      <td>82</td>\n",
       "      <td>22</td>\n",
       "      <td>13.1</td>\n",
       "      <td>47.1</td>\n",
       "      <td>2.5</td>\n",
       "      <td>7.1</td>\n",
       "      <td>0.3</td>\n",
       "      <td>2.7</td>\n",
       "      <td>0.1</td>\n",
       "      <td>0</td>\n",
       "      <td>0</td>\n",
       "    </tr>\n",
       "    <tr>\n",
       "      <th>3</th>\n",
       "      <td>4</td>\n",
       "      <td>6</td>\n",
       "      <td>2012</td>\n",
       "      <td>25</td>\n",
       "      <td>89</td>\n",
       "      <td>13</td>\n",
       "      <td>2.5</td>\n",
       "      <td>28.6</td>\n",
       "      <td>1.3</td>\n",
       "      <td>6.9</td>\n",
       "      <td>0.0</td>\n",
       "      <td>1.7</td>\n",
       "      <td>0.0</td>\n",
       "      <td>0</td>\n",
       "      <td>0</td>\n",
       "    </tr>\n",
       "    <tr>\n",
       "      <th>4</th>\n",
       "      <td>5</td>\n",
       "      <td>6</td>\n",
       "      <td>2012</td>\n",
       "      <td>27</td>\n",
       "      <td>77</td>\n",
       "      <td>16</td>\n",
       "      <td>0.0</td>\n",
       "      <td>64.8</td>\n",
       "      <td>3.0</td>\n",
       "      <td>14.2</td>\n",
       "      <td>1.2</td>\n",
       "      <td>3.9</td>\n",
       "      <td>0.5</td>\n",
       "      <td>0</td>\n",
       "      <td>0</td>\n",
       "    </tr>\n",
       "  </tbody>\n",
       "</table>\n",
       "</div>"
      ],
      "text/plain": [
       "   day  month  year  Temperature  RH  Ws  Rain  FFMC  DMC    DC  ISI  BUI  \\\n",
       "0    1      6  2012           29  57  18   0.0  65.7  3.4   7.6  1.3  3.4   \n",
       "1    2      6  2012           29  61  13   1.3  64.4  4.1   7.6  1.0  3.9   \n",
       "2    3      6  2012           26  82  22  13.1  47.1  2.5   7.1  0.3  2.7   \n",
       "3    4      6  2012           25  89  13   2.5  28.6  1.3   6.9  0.0  1.7   \n",
       "4    5      6  2012           27  77  16   0.0  64.8  3.0  14.2  1.2  3.9   \n",
       "\n",
       "   FWI  Classes  Region  \n",
       "0  0.5        0       0  \n",
       "1  0.4        0       0  \n",
       "2  0.1        0       0  \n",
       "3  0.0        0       0  \n",
       "4  0.5        0       0  "
      ]
     },
     "execution_count": 17,
     "metadata": {},
     "output_type": "execute_result"
    }
   ],
   "source": [
    "# Load dataset, skipping the first header row\n",
    "df = pd.read_csv('Algerian_forest_fires_dataset_UPDATE.csv', header=1)\n",
    "\n",
    "# Add a 'Region' column: 0 for Bejaia, 1 for Sidi-Bel Abbes\n",
    "df.loc[:122, \"Region\"] = 0\n",
    "df.loc[122:, \"Region\"] = 1\n",
    "\n",
    "# Drop rows with any missing values\n",
    "df.dropna(inplace=True)\n",
    "df.reset_index(drop=True, inplace=True)\n",
    "\n",
    "# Remove the row that contains column headers in the middle of the data\n",
    "df = df.drop(122).reset_index(drop=True)\n",
    "\n",
    "# Strip whitespace from column names\n",
    "df.columns = df.columns.str.strip()\n",
    "\n",
    "# Convert column data types\n",
    "df[['day', 'month', 'year', 'Temperature', 'RH', 'Ws']] = df[['day', 'month', 'year', 'Temperature', 'RH', 'Ws']].astype(int)\n",
    "\n",
    "for col in ['Rain', 'FFMC', 'DMC', 'DC', 'ISI', 'BUI', 'FWI']:\n",
    "    df[col] = df[col].astype(float)\n",
    "\n",
    "df['Region'] = df['Region'].astype(int)\n",
    "\n",
    "# Encode 'Classes' column: 1 for 'fire', 0 for 'not fire'\n",
    "df['Classes'] = np.where(df['Classes'].str.strip().str.contains('not fire', case=False), 0, 1)\n",
    "\n",
    "# Log the cleaned dataset as a W&B Artifact\n",
    "cleaned_data_path = \"Algerian_forest_fires_cleaned.csv\"\n",
    "df.to_csv(cleaned_data_path, index=False)\n",
    "\n",
    "artifact = wandb.Artifact(\"cleaned-algerian-fire-data\", type=\"dataset\")\n",
    "artifact.add_file(cleaned_data_path)\n",
    "wandb.log_artifact(artifact)\n",
    "\n",
    "print(\"Data cleaning and preprocessing complete.\")\n",
    "df.head()"
   ]
  },
  {
   "cell_type": "code",
   "execution_count": 19,
   "id": "883300b2-a933-45b8-ab0b-65809fb3647c",
   "metadata": {},
   "outputs": [
    {
     "name": "stdout",
     "output_type": "stream",
     "text": [
      "Data has been split and scaled.\n",
      "X_train shape: (182, 11)\n",
      "X_test shape: (61, 11)\n"
     ]
    }
   ],
   "source": [
    "# Define features (X) and target (y)\n",
    "# We will predict the 'FWI' (Fire Weather Index)\n",
    "X = df.drop(['day', 'month', 'year', 'FWI'], axis=1)\n",
    "y = df['FWI']\n",
    "\n",
    "# ---> FIX: Use the 'run' object returned from wandb.init()\n",
    "# This is more explicit and reliable than using the global wandb.config\n",
    "X_train, X_test, y_train, y_test = train_test_split(\n",
    "    X, y, \n",
    "    test_size=run.config.test_size, \n",
    "    random_state=run.config.random_state\n",
    ")\n",
    "\n",
    "# Store config values in local variables from the 'run' object\n",
    "test_size_val = run.config.test_size\n",
    "random_state_val = run.config.random_state\n",
    "\n",
    "# Scale the features\n",
    "scaler = StandardScaler()\n",
    "X_train = scaler.fit_transform(X_train)\n",
    "X_test = scaler.transform(X_test)\n",
    "\n",
    "# Save and log the scaler as an artifact\n",
    "scaler_filename = \"standard_scaler.pkl\"\n",
    "joblib.dump(scaler, scaler_filename)\n",
    "scaler_artifact = wandb.Artifact(\"feature-scaler\", type=\"preprocessor\")\n",
    "scaler_artifact.add_file(scaler_filename)\n",
    "wandb.log_artifact(scaler_artifact)\n",
    "\n",
    "print(\"Data has been split and scaled.\")\n",
    "print(f\"X_train shape: {X_train.shape}\")\n",
    "print(f\"X_test shape: {X_test.shape}\")"
   ]
  },
  {
   "cell_type": "code",
   "execution_count": 21,
   "id": "8df1e7ce-fff0-466b-a469-f19d202af937",
   "metadata": {},
   "outputs": [
    {
     "data": {
      "text/html": [
       "Finishing previous runs because reinit is set to True."
      ],
      "text/plain": [
       "<IPython.core.display.HTML object>"
      ]
     },
     "metadata": {},
     "output_type": "display_data"
    },
    {
     "data": {
      "text/html": [],
      "text/plain": [
       "<IPython.core.display.HTML object>"
      ]
     },
     "metadata": {},
     "output_type": "display_data"
    },
    {
     "data": {
      "text/html": [
       " View run <strong style=\"color:#cdcd00\">data-preprocessing</strong> at: <a href='https://wandb.ai/paragd004-dr-d-y-patil-vidyapeeth/ridge-lasso-regression/runs/chggdydy' target=\"_blank\">https://wandb.ai/paragd004-dr-d-y-patil-vidyapeeth/ridge-lasso-regression/runs/chggdydy</a><br> View project at: <a href='https://wandb.ai/paragd004-dr-d-y-patil-vidyapeeth/ridge-lasso-regression' target=\"_blank\">https://wandb.ai/paragd004-dr-d-y-patil-vidyapeeth/ridge-lasso-regression</a><br>Synced 5 W&B file(s), 0 media file(s), 0 artifact file(s) and 0 other file(s)"
      ],
      "text/plain": [
       "<IPython.core.display.HTML object>"
      ]
     },
     "metadata": {},
     "output_type": "display_data"
    },
    {
     "data": {
      "text/html": [
       "Find logs at: <code>.\\wandb\\run-20250929_000334-chggdydy\\logs</code>"
      ],
      "text/plain": [
       "<IPython.core.display.HTML object>"
      ]
     },
     "metadata": {},
     "output_type": "display_data"
    },
    {
     "data": {
      "text/html": [
       "Tracking run with wandb version 0.21.0"
      ],
      "text/plain": [
       "<IPython.core.display.HTML object>"
      ]
     },
     "metadata": {},
     "output_type": "display_data"
    },
    {
     "data": {
      "text/html": [
       "Run data is saved locally in <code>C:\\Users\\Parag Dharmik\\ML\\02\\wandb\\run-20250929_000413-n0fb5phy</code>"
      ],
      "text/plain": [
       "<IPython.core.display.HTML object>"
      ]
     },
     "metadata": {},
     "output_type": "display_data"
    },
    {
     "data": {
      "text/html": [
       "Syncing run <strong><a href='https://wandb.ai/paragd004-dr-d-y-patil-vidyapeeth/ridge-lasso-regression/runs/n0fb5phy' target=\"_blank\">Ridge-experiment-run</a></strong> to <a href='https://wandb.ai/paragd004-dr-d-y-patil-vidyapeeth/ridge-lasso-regression' target=\"_blank\">Weights & Biases</a> (<a href='https://wandb.me/developer-guide' target=\"_blank\">docs</a>)<br>"
      ],
      "text/plain": [
       "<IPython.core.display.HTML object>"
      ]
     },
     "metadata": {},
     "output_type": "display_data"
    },
    {
     "data": {
      "text/html": [
       " View project at <a href='https://wandb.ai/paragd004-dr-d-y-patil-vidyapeeth/ridge-lasso-regression' target=\"_blank\">https://wandb.ai/paragd004-dr-d-y-patil-vidyapeeth/ridge-lasso-regression</a>"
      ],
      "text/plain": [
       "<IPython.core.display.HTML object>"
      ]
     },
     "metadata": {},
     "output_type": "display_data"
    },
    {
     "data": {
      "text/html": [
       " View run at <a href='https://wandb.ai/paragd004-dr-d-y-patil-vidyapeeth/ridge-lasso-regression/runs/n0fb5phy' target=\"_blank\">https://wandb.ai/paragd004-dr-d-y-patil-vidyapeeth/ridge-lasso-regression/runs/n0fb5phy</a>"
      ],
      "text/plain": [
       "<IPython.core.display.HTML object>"
      ]
     },
     "metadata": {},
     "output_type": "display_data"
    },
    {
     "name": "stdout",
     "output_type": "stream",
     "text": [
      "--- Ridge Model ---\n",
      "Mean Squared Error (MSE): 0.5677\n",
      "R-squared (R2) Score: 0.9872\n",
      "\n"
     ]
    },
    {
     "data": {
      "text/html": [],
      "text/plain": [
       "<IPython.core.display.HTML object>"
      ]
     },
     "metadata": {},
     "output_type": "display_data"
    },
    {
     "data": {
      "text/html": [
       "<br>    <style><br>        .wandb-row {<br>            display: flex;<br>            flex-direction: row;<br>            flex-wrap: wrap;<br>            justify-content: flex-start;<br>            width: 100%;<br>        }<br>        .wandb-col {<br>            display: flex;<br>            flex-direction: column;<br>            flex-basis: 100%;<br>            flex: 1;<br>            padding: 10px;<br>        }<br>    </style><br><div class=\"wandb-row\"><div class=\"wandb-col\"><h3>Run history:</h3><br/><table class=\"wandb\"><tr><td>MSE</td><td>▁</td></tr><tr><td>R2</td><td>▁</td></tr></table><br/></div><div class=\"wandb-col\"><h3>Run summary:</h3><br/><table class=\"wandb\"><tr><td>MSE</td><td>0.56773</td></tr><tr><td>R2</td><td>0.98717</td></tr></table><br/></div></div>"
      ],
      "text/plain": [
       "<IPython.core.display.HTML object>"
      ]
     },
     "metadata": {},
     "output_type": "display_data"
    },
    {
     "data": {
      "text/html": [
       " View run <strong style=\"color:#cdcd00\">Ridge-experiment-run</strong> at: <a href='https://wandb.ai/paragd004-dr-d-y-patil-vidyapeeth/ridge-lasso-regression/runs/n0fb5phy' target=\"_blank\">https://wandb.ai/paragd004-dr-d-y-patil-vidyapeeth/ridge-lasso-regression/runs/n0fb5phy</a><br> View project at: <a href='https://wandb.ai/paragd004-dr-d-y-patil-vidyapeeth/ridge-lasso-regression' target=\"_blank\">https://wandb.ai/paragd004-dr-d-y-patil-vidyapeeth/ridge-lasso-regression</a><br>Synced 5 W&B file(s), 0 media file(s), 0 artifact file(s) and 0 other file(s)"
      ],
      "text/plain": [
       "<IPython.core.display.HTML object>"
      ]
     },
     "metadata": {},
     "output_type": "display_data"
    },
    {
     "data": {
      "text/html": [
       "Find logs at: <code>.\\wandb\\run-20250929_000413-n0fb5phy\\logs</code>"
      ],
      "text/plain": [
       "<IPython.core.display.HTML object>"
      ]
     },
     "metadata": {},
     "output_type": "display_data"
    },
    {
     "data": {
      "text/html": [
       "Tracking run with wandb version 0.21.0"
      ],
      "text/plain": [
       "<IPython.core.display.HTML object>"
      ]
     },
     "metadata": {},
     "output_type": "display_data"
    },
    {
     "data": {
      "text/html": [
       "Run data is saved locally in <code>C:\\Users\\Parag Dharmik\\ML\\02\\wandb\\run-20250929_000418-3afe8skr</code>"
      ],
      "text/plain": [
       "<IPython.core.display.HTML object>"
      ]
     },
     "metadata": {},
     "output_type": "display_data"
    },
    {
     "data": {
      "text/html": [
       "Syncing run <strong><a href='https://wandb.ai/paragd004-dr-d-y-patil-vidyapeeth/ridge-lasso-regression/runs/3afe8skr' target=\"_blank\">Lasso-experiment-run</a></strong> to <a href='https://wandb.ai/paragd004-dr-d-y-patil-vidyapeeth/ridge-lasso-regression' target=\"_blank\">Weights & Biases</a> (<a href='https://wandb.me/developer-guide' target=\"_blank\">docs</a>)<br>"
      ],
      "text/plain": [
       "<IPython.core.display.HTML object>"
      ]
     },
     "metadata": {},
     "output_type": "display_data"
    },
    {
     "data": {
      "text/html": [
       " View project at <a href='https://wandb.ai/paragd004-dr-d-y-patil-vidyapeeth/ridge-lasso-regression' target=\"_blank\">https://wandb.ai/paragd004-dr-d-y-patil-vidyapeeth/ridge-lasso-regression</a>"
      ],
      "text/plain": [
       "<IPython.core.display.HTML object>"
      ]
     },
     "metadata": {},
     "output_type": "display_data"
    },
    {
     "data": {
      "text/html": [
       " View run at <a href='https://wandb.ai/paragd004-dr-d-y-patil-vidyapeeth/ridge-lasso-regression/runs/3afe8skr' target=\"_blank\">https://wandb.ai/paragd004-dr-d-y-patil-vidyapeeth/ridge-lasso-regression/runs/3afe8skr</a>"
      ],
      "text/plain": [
       "<IPython.core.display.HTML object>"
      ]
     },
     "metadata": {},
     "output_type": "display_data"
    },
    {
     "name": "stdout",
     "output_type": "stream",
     "text": [
      "--- Lasso Model ---\n",
      "Mean Squared Error (MSE): 0.7003\n",
      "R-squared (R2) Score: 0.9842\n",
      "\n"
     ]
    },
    {
     "data": {
      "text/html": [],
      "text/plain": [
       "<IPython.core.display.HTML object>"
      ]
     },
     "metadata": {},
     "output_type": "display_data"
    },
    {
     "data": {
      "text/html": [
       "<br>    <style><br>        .wandb-row {<br>            display: flex;<br>            flex-direction: row;<br>            flex-wrap: wrap;<br>            justify-content: flex-start;<br>            width: 100%;<br>        }<br>        .wandb-col {<br>            display: flex;<br>            flex-direction: column;<br>            flex-basis: 100%;<br>            flex: 1;<br>            padding: 10px;<br>        }<br>    </style><br><div class=\"wandb-row\"><div class=\"wandb-col\"><h3>Run history:</h3><br/><table class=\"wandb\"><tr><td>MSE</td><td>▁</td></tr><tr><td>R2</td><td>▁</td></tr></table><br/></div><div class=\"wandb-col\"><h3>Run summary:</h3><br/><table class=\"wandb\"><tr><td>MSE</td><td>0.70033</td></tr><tr><td>R2</td><td>0.98418</td></tr></table><br/></div></div>"
      ],
      "text/plain": [
       "<IPython.core.display.HTML object>"
      ]
     },
     "metadata": {},
     "output_type": "display_data"
    },
    {
     "data": {
      "text/html": [
       " View run <strong style=\"color:#cdcd00\">Lasso-experiment-run</strong> at: <a href='https://wandb.ai/paragd004-dr-d-y-patil-vidyapeeth/ridge-lasso-regression/runs/3afe8skr' target=\"_blank\">https://wandb.ai/paragd004-dr-d-y-patil-vidyapeeth/ridge-lasso-regression/runs/3afe8skr</a><br> View project at: <a href='https://wandb.ai/paragd004-dr-d-y-patil-vidyapeeth/ridge-lasso-regression' target=\"_blank\">https://wandb.ai/paragd004-dr-d-y-patil-vidyapeeth/ridge-lasso-regression</a><br>Synced 5 W&B file(s), 0 media file(s), 2 artifact file(s) and 0 other file(s)"
      ],
      "text/plain": [
       "<IPython.core.display.HTML object>"
      ]
     },
     "metadata": {},
     "output_type": "display_data"
    },
    {
     "data": {
      "text/html": [
       "Find logs at: <code>.\\wandb\\run-20250929_000418-3afe8skr\\logs</code>"
      ],
      "text/plain": [
       "<IPython.core.display.HTML object>"
      ]
     },
     "metadata": {},
     "output_type": "display_data"
    },
    {
     "name": "stdout",
     "output_type": "stream",
     "text": [
      "Model training and logging complete.\n"
     ]
    }
   ],
   "source": [
    "# Define the models to train\n",
    "models = {\n",
    "    \"Ridge\": Ridge(alpha=1.0),\n",
    "    \"Lasso\": Lasso(alpha=0.1)\n",
    "}\n",
    "\n",
    "for model_name, model in models.items():\n",
    "    # Start a new W&B run for each model\n",
    "    with wandb.init(\n",
    "        project=\"ridge-lasso-regression\",\n",
    "        name=f\"{model_name}-experiment-run\",\n",
    "        reinit=True,\n",
    "        config={\n",
    "            \"model_type\": model_name,\n",
    "            \"alpha\": model.alpha,\n",
    "            # Use the local variables stored previously\n",
    "            \"test_size\": test_size_val,\n",
    "            \"random_state\": random_state_val\n",
    "        }\n",
    "    ) as run:\n",
    "        # Train the model\n",
    "        model.fit(X_train, y_train)\n",
    "\n",
    "        # Make predictions\n",
    "        y_pred = model.predict(X_test)\n",
    "\n",
    "        # Calculate metrics\n",
    "        mse = mean_squared_error(y_test, y_pred)\n",
    "        r2 = r2_score(y_test, y_pred)\n",
    "        \n",
    "        print(f\"--- {model_name} Model ---\")\n",
    "        print(f\"Mean Squared Error (MSE): {mse:.4f}\")\n",
    "        print(f\"R-squared (R2) Score: {r2:.4f}\\n\")\n",
    "\n",
    "        # Log metrics to W&B\n",
    "        wandb.log({\"MSE\": mse, \"R2\": r2})\n",
    "\n",
    "        # Save the trained model file\n",
    "        model_filename = f\"{model_name.lower()}_model.pkl\"\n",
    "        joblib.dump(model, model_filename)\n",
    "\n",
    "        # Log the model as a W&B Artifact\n",
    "        model_artifact = wandb.Artifact(\n",
    "            f\"{model_name}-model\",\n",
    "            type=\"model\",\n",
    "            description=f\"A trained {model_name} regression model.\",\n",
    "            metadata={\"alpha\": model.alpha, \"r2_score\": r2}\n",
    "        )\n",
    "        model_artifact.add_file(model_filename)\n",
    "        wandb.log_artifact(model_artifact)\n",
    "\n",
    "print(\"Model training and logging complete.\")"
   ]
  },
  {
   "cell_type": "code",
   "execution_count": 23,
   "id": "8cfb2648-c9c8-4e96-9dea-0912ef183c33",
   "metadata": {},
   "outputs": [],
   "source": [
    "wandb.finish()"
   ]
  }
 ],
 "metadata": {
  "kernelspec": {
   "display_name": "Python [conda env:base] *",
   "language": "python",
   "name": "conda-base-py"
  },
  "language_info": {
   "codemirror_mode": {
    "name": "ipython",
    "version": 3
   },
   "file_extension": ".py",
   "mimetype": "text/x-python",
   "name": "python",
   "nbconvert_exporter": "python",
   "pygments_lexer": "ipython3",
   "version": "3.12.7"
  }
 },
 "nbformat": 4,
 "nbformat_minor": 5
}
